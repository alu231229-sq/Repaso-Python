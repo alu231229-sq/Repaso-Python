{
  "nbformat": 4,
  "nbformat_minor": 0,
  "metadata": {
    "colab": {
      "provenance": [],
      "authorship_tag": "ABX9TyMiz3j8phhCrilfm5yhTewE",
      "include_colab_link": true
    },
    "kernelspec": {
      "name": "python3",
      "display_name": "Python 3"
    },
    "language_info": {
      "name": "python"
    }
  },
  "cells": [
    {
      "cell_type": "markdown",
      "metadata": {
        "id": "view-in-github",
        "colab_type": "text"
      },
      "source": [
        "<a href=\"https://colab.research.google.com/github/alu231229-sq/Repaso-Python/blob/main/PedroVP.ipynb\" target=\"_parent\"><img src=\"https://colab.research.google.com/assets/colab-badge.svg\" alt=\"Open In Colab\"/></a>"
      ]
    },
    {
      "cell_type": "markdown",
      "source": [
        "Programa 1 en python para imprimir mi nombre con  hola mundo"
      ],
      "metadata": {
        "id": "9_Yj5tbv0Kh2"
      }
    },
    {
      "cell_type": "code",
      "execution_count": 12,
      "metadata": {
        "colab": {
          "base_uri": "https://localhost:8080/"
        },
        "id": "GoRMuF2bz_Ll",
        "outputId": "c34ec2ff-3f71-499f-c5bb-d83f9de79009"
      },
      "outputs": [
        {
          "output_type": "stream",
          "name": "stdout",
          "text": [
            "Hola mundo\n",
            "Ingresa tu nombre: pedro\n",
            "Hola, pedro\n",
            "Ingresa tu apellido paterno: velez\n",
            "Ingresa tu apellido materno: perez\n",
            "Hola,  pedro  velez  perez\n"
          ]
        }
      ],
      "source": [
        "print(\"Hola mundo\")\n",
        "nombre= (input(\"Ingresa tu nombre: \"))\n",
        "print(\"Hola,\",nombre)\n",
        "pat= (input(\"Ingresa tu apellido paterno: \"))\n",
        "mat= (input(\"Ingresa tu apellido materno: \"))\n",
        "print(\"Hola, \",nombre,\"\",pat,\"\",mat)"
      ]
    }
  ]
}