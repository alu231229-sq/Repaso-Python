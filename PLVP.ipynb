{
  "nbformat": 4,
  "nbformat_minor": 0,
  "metadata": {
    "colab": {
      "provenance": [],
      "authorship_tag": "ABX9TyNgNrUINg8J1MDPP7pAoyid",
      "include_colab_link": true
    },
    "kernelspec": {
      "name": "python3",
      "display_name": "Python 3"
    },
    "language_info": {
      "name": "python"
    }
  },
  "cells": [
    {
      "cell_type": "markdown",
      "metadata": {
        "id": "view-in-github",
        "colab_type": "text"
      },
      "source": [
        "<a href=\"https://colab.research.google.com/github/alu231229-sq/Repaso-Python/blob/main/PLVP.ipynb\" target=\"_parent\"><img src=\"https://colab.research.google.com/assets/colab-badge.svg\" alt=\"Open In Colab\"/></a>"
      ]
    },
    {
      "cell_type": "code",
      "execution_count": null,
      "metadata": {
        "id": "VX4rnnZv0Cr_"
      },
      "outputs": [],
      "source": []
    },
    {
      "cell_type": "code",
      "source": [
        "nom=input(\"Ingresa tu/s nombre/s \")\n",
        "pat=input(\"Ingresa tu apellido paterno \")\n",
        "mat=input(\"Ingresa tu apellido materno \")\n",
        "print(\"Hola,\",nom,pat,mat)"
      ],
      "metadata": {
        "colab": {
          "base_uri": "https://localhost:8080/"
        },
        "id": "AtPB2e3I0Kto",
        "outputId": "66bdedca-7ee7-4905-9e77-97aa91de2da8"
      },
      "execution_count": 3,
      "outputs": [
        {
          "output_type": "stream",
          "name": "stdout",
          "text": [
            "Ingresa tu/s nombre/s pedro\n",
            "Ingresa tu apellido paterno velez\n",
            "Ingresa tu apellido materno perez\n",
            "Hola, pedro velez perez\n"
          ]
        }
      ]
    },
    {
      "cell_type": "code",
      "source": [
        "num1= float(input(\"Ingresa tu primer numero: \"))\n",
        "num2= float(input(\"Ingresa tu segundo numero: \"))\n",
        "print(\"El resultado de tu suma es: \",num1+num2)"
      ],
      "metadata": {
        "colab": {
          "base_uri": "https://localhost:8080/"
        },
        "id": "VfJnja4T1QpL",
        "outputId": "30364347-0970-4473-898c-870356f51d69"
      },
      "execution_count": 11,
      "outputs": [
        {
          "output_type": "stream",
          "name": "stdout",
          "text": [
            "Ingresa tu primer numero: 10\n",
            "Ingresa tu segundo numero: 10\n",
            "El resultado de tu suma es:  20.0\n"
          ]
        }
      ]
    },
    {
      "cell_type": "code",
      "source": [
        "r= float(input(\"Ingresa el radio de tu circulo: \"))\n",
        "area=pow(3.14*r, 2)\n",
        "print(\"El area de tu circulo es de: \",area)"
      ],
      "metadata": {
        "colab": {
          "base_uri": "https://localhost:8080/"
        },
        "id": "ij-EyeFK12ep",
        "outputId": "87e37c30-393c-4e19-9f73-cb9238df9898"
      },
      "execution_count": 10,
      "outputs": [
        {
          "output_type": "stream",
          "name": "stdout",
          "text": [
            "Ingresa el radio de tu circulo: 2\n",
            "El area de tu circulo es de:  39.4384\n"
          ]
        }
      ]
    },
    {
      "cell_type": "markdown",
      "source": [
        "db.carros.find.([modelo:\"taurus\"})\n",
        "db.carros.find({nocarros:55})\n",
        "db.carros.find({marca:\"fiat\"})"
      ],
      "metadata": {
        "id": "9cVNiIBL5OQJ"
      }
    },
    {
      "cell_type": "markdown",
      "source": [],
      "metadata": {
        "id": "1IboPWbl5OOo"
      }
    }
  ]
}